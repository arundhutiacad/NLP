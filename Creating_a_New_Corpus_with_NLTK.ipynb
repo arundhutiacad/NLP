{
  "nbformat": 4,
  "nbformat_minor": 0,
  "metadata": {
    "colab": {
      "provenance": []
    },
    "kernelspec": {
      "name": "python3",
      "display_name": "Python 3"
    },
    "language_info": {
      "name": "python"
    }
  },
  "cells": [
    {
      "cell_type": "code",
      "source": [
        "# Download the punkt tokenizer\n",
        "nltk.download('punkt')"
      ],
      "metadata": {
        "colab": {
          "base_uri": "https://localhost:8080/"
        },
        "id": "pTORUSsX8YpS",
        "outputId": "a8f7b3dd-3b7c-404a-921c-5ed972792f86"
      },
      "execution_count": 4,
      "outputs": [
        {
          "output_type": "stream",
          "name": "stderr",
          "text": [
            "[nltk_data] Downloading package punkt to /root/nltk_data...\n",
            "[nltk_data]   Unzipping tokenizers/punkt.zip.\n"
          ]
        },
        {
          "output_type": "execute_result",
          "data": {
            "text/plain": [
              "True"
            ]
          },
          "metadata": {},
          "execution_count": 4
        }
      ]
    },
    {
      "cell_type": "code",
      "source": [
        "nltk.download('stopwords')"
      ],
      "metadata": {
        "colab": {
          "base_uri": "https://localhost:8080/"
        },
        "id": "4T_o4T5o8Lsc",
        "outputId": "243b4032-4962-4095-e3dd-c302e8fc725b"
      },
      "execution_count": 2,
      "outputs": [
        {
          "output_type": "stream",
          "name": "stderr",
          "text": [
            "[nltk_data] Downloading package stopwords to /root/nltk_data...\n",
            "[nltk_data]   Unzipping corpora/stopwords.zip.\n"
          ]
        },
        {
          "output_type": "execute_result",
          "data": {
            "text/plain": [
              "True"
            ]
          },
          "metadata": {},
          "execution_count": 2
        }
      ]
    },
    {
      "cell_type": "code",
      "execution_count": 5,
      "metadata": {
        "colab": {
          "base_uri": "https://localhost:8080/"
        },
        "id": "iFQJolVp8AWO",
        "outputId": "e8c7f6ad-e232-47e1-8c97-8ed31bd6b06b"
      },
      "outputs": [
        {
          "output_type": "stream",
          "name": "stdout",
          "text": [
            "Words in the corpus:\n",
            "['sampl', 'text', 'token', 'normal', 'anoth', 'exampl', ...]\n"
          ]
        }
      ],
      "source": [
        "import nltk\n",
        "from nltk.tokenize import word_tokenize\n",
        "from nltk.corpus.reader.plaintext import PlaintextCorpusReader\n",
        "from nltk.corpus import stopwords\n",
        "from nltk.stem import PorterStemmer\n",
        "import string\n",
        "import os\n",
        "\n",
        "# Sample text data (you can replace this with your actual text data)\n",
        "texts = [\n",
        "    \"Sample text for tokenization and normalization.\",\n",
        "    \"Another example sentence for NLTK corpus creation.\",\n",
        "    \"NLTK is a powerful tool for natural language processing.\"\n",
        "]\n",
        "\n",
        "# Step 1: Tokenization and Preprocessing\n",
        "tokenized_texts = []\n",
        "stop_words = set(stopwords.words('english'))\n",
        "ps = PorterStemmer()\n",
        "\n",
        "for text in texts:\n",
        "    # Tokenize into words\n",
        "    words = word_tokenize(text)\n",
        "\n",
        "    # Normalize (lowercase, remove punctuation, remove stopwords, stem)\n",
        "    normalized_words = []\n",
        "    for word in words:\n",
        "        # Convert to lowercase\n",
        "        word = word.lower()\n",
        "\n",
        "        # Remove punctuation\n",
        "        word = word.translate(str.maketrans('', '', string.punctuation))\n",
        "\n",
        "        # Remove stopwords and empty strings\n",
        "        if word not in stop_words and word.strip():\n",
        "            # Stem the word\n",
        "            word = ps.stem(word)\n",
        "            normalized_words.append(word)\n",
        "\n",
        "    # Join normalized words back into a sentence (optional)\n",
        "    normalized_text = \" \".join(normalized_words)\n",
        "    tokenized_texts.append(normalized_text)\n",
        "\n",
        "# Step 2: Organize and Save Corpus\n",
        "corpus_dir = 'my_custom_corpus'\n",
        "if not os.path.exists(corpus_dir):\n",
        "    os.makedirs(corpus_dir)\n",
        "\n",
        "# Write tokenized texts to separate files in the corpus directory\n",
        "for i, text in enumerate(tokenized_texts):\n",
        "    with open(os.path.join(corpus_dir, f'doc{i + 1}.txt'), 'w', encoding='utf-8') as file:\n",
        "        file.write(text)\n",
        "\n",
        "# Step 3: Create an NLTK Corpus Reader\n",
        "corpus = PlaintextCorpusReader(corpus_dir, '.*\\.txt')\n",
        "\n",
        "# Step 4: Usage Example - Print the words in the corpus\n",
        "print(\"Words in the corpus:\")\n",
        "print(corpus.words())\n",
        "\n",
        "# Step 5: Additional NLTK functionalities can be applied to the corpus, such as frequency distribution, concordance, etc.\n"
      ]
    }
  ]
}