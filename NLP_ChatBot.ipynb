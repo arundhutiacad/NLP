{
  "cells": [
    {
      "cell_type": "code",
      "execution_count": null,
      "metadata": {
        "colab": {
          "background_save": true,
          "base_uri": "https://localhost:8080/"
        },
        "id": "IjXBKV__tG7O",
        "outputId": "18a92194-cbda-4972-d745-7b6f6699af7d"
      },
      "outputs": [
        {
          "name": "stdout",
          "output_type": "stream",
          "text": [
            "Welcome to the NLP ChatBot. Type 'exit' to end the conversation.\n",
            "Bot: Hi there!\n"
          ]
        }
      ],
      "source": [
        "import nltk\n",
        "from nltk.chat.util import Chat, reflections\n",
        "\n",
        "# Define some simple rules-based responses\n",
        "rules = [\n",
        "    (r'(.*)hello(.*)', ['Hello!', 'Hi there!', 'Hey!']),\n",
        "    (r'(.*)how are you(.*)', ['I am doing well, thank you!', 'I\\'m great, thanks for asking!']),\n",
        "    (r'(.*)your name(.*)', ['I am an NLP chatbot.', 'You can call me ChatBot.']),\n",
        "    (r'(.*)exit(.*)', ['Goodbye!', 'Bye!', 'Take care!']),\n",
        "]\n",
        "\n",
        "# Create a chatbot instance\n",
        "chatbot = Chat(rules, reflections)\n",
        "\n",
        "# Start chatting with the bot\n",
        "print(\"Welcome to the NLP ChatBot. Type 'exit' to end the conversation.\")\n",
        "while True:\n",
        "    user_input = input(\"You: \")\n",
        "    if user_input.lower() == 'exit':\n",
        "        break\n",
        "    response = chatbot.respond(user_input)\n",
        "    print(\"Bot:\", response)\n"
      ]
    }
  ],
  "metadata": {
    "colab": {
      "provenance": []
    },
    "kernelspec": {
      "display_name": "Python 3",
      "name": "python3"
    },
    "language_info": {
      "name": "python"
    }
  },
  "nbformat": 4,
  "nbformat_minor": 0
}